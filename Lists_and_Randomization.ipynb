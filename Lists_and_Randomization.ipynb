{
  "nbformat": 4,
  "nbformat_minor": 0,
  "metadata": {
    "colab": {
      "provenance": []
    },
    "kernelspec": {
      "name": "python3",
      "display_name": "Python 3"
    },
    "language_info": {
      "name": "python"
    }
  },
  "cells": [
    {
      "cell_type": "markdown",
      "source": [
        "#**Task 1**\n",
        "Write a program to perform basic operations on a list.\n",
        "\n",
        "Perform the following operations:\n",
        "1. Add an element to the list.\n",
        "2. Remove an element from the list.\n",
        "3. Access an element by its index.\n",
        "4. Find the length of the list.\n",
        "5. Check if a specific number exists in the list.\n",
        "6. Print the list after each operation.\n",
        "\n",
        "\n"
      ],
      "metadata": {
        "id": "Abjomwmz8Csf"
      }
    },
    {
      "cell_type": "code",
      "source": [
        "list_01 = []\n",
        "\n",
        "# 1. Add an element\n",
        "element = int(input(\"Enter an element to add: \"))\n",
        "list_01.append(element)\n",
        "print(f\"List after adding element: {list_01}\")\n",
        "\n",
        "# 2. Remove an element\n",
        "element = int(input(\"Enter an element to remove: \"))\n",
        "if element in list_01:\n",
        "    list_01.remove(element)\n",
        "else:\n",
        "    print(f\"{element} not found in the list.\")\n",
        "print(f\"List after removing element: {list_01}\")\n",
        "\n",
        "# 3. Access an element by index\n",
        "index = int(input(\"Enter index to access element: \"))\n",
        "if 0 <= index < len(list_01):\n",
        "    print(f\"Element at index {index}: {list_01[index]}\")\n",
        "else:\n",
        "    print(\"Invalid index!\")\n",
        "\n",
        "# 4. Find length of the list\n",
        "print(f\"Length of the list: {len(list_01)}\")\n",
        "\n",
        "# 5. Check if a specific number exists\n",
        "number = int(input(\"Enter a number to check if it exists: \"))\n",
        "if number in list_01:\n",
        "    print(f\"{number} exists in the list.\")\n",
        "else:\n",
        "    print(f\"{number} does not exist in the list.\")\n",
        "print(f\"Final list: {list_01}\")\n"
      ],
      "metadata": {
        "colab": {
          "base_uri": "https://localhost:8080/"
        },
        "id": "G4IznHe53z2s",
        "outputId": "3ba094a0-9c57-4392-e6e7-7b4282eaecb7"
      },
      "execution_count": 4,
      "outputs": [
        {
          "output_type": "stream",
          "name": "stdout",
          "text": [
            "Enter an element to add: 4\n",
            "List after adding element: [4]\n",
            "Enter an element to remove: 5\n",
            "5 not found in the list.\n",
            "List after removing element: [4]\n",
            "Enter index to access element: 6\n",
            "Invalid index!\n",
            "Length of the list: 1\n",
            "Enter a number to check if it exists: 7\n",
            "7 does not exist in the list.\n",
            "Final list: [4]\n"
          ]
        }
      ]
    },
    {
      "cell_type": "markdown",
      "source": [
        "#**Task 2**\n",
        "Write a program which takes input a list and prints any random element from that list"
      ],
      "metadata": {
        "id": "cUkkTYd88y7D"
      }
    },
    {
      "cell_type": "code",
      "source": [
        "import random\n",
        "\n",
        "user_input = input(\"Enter a list of elements separated by spaces: \")\n",
        "\n",
        "elements = user_input.split()\n",
        "\n",
        "if elements:\n",
        "    random_element = random.choice(elements)\n",
        "    print(f\"Random element: {random_element}\")\n",
        "else:\n",
        "    print(\"The list is empty!\")\n"
      ],
      "metadata": {
        "colab": {
          "base_uri": "https://localhost:8080/"
        },
        "id": "BY-Ic3e_4JaV",
        "outputId": "db5fb15d-4f05-4121-be9f-c9fd69ae8d42"
      },
      "execution_count": 5,
      "outputs": [
        {
          "output_type": "stream",
          "name": "stdout",
          "text": [
            "Enter a list of elements separated by spaces: 1 2 3 4\n",
            "Random element: 4\n"
          ]
        }
      ]
    }
  ]
}